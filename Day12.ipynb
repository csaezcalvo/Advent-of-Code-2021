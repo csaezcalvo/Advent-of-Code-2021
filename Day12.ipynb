{
 "cells": [
  {
   "cell_type": "code",
   "execution_count": 2,
   "id": "24c94319",
   "metadata": {},
   "outputs": [],
   "source": [
    "from time import time"
   ]
  },
  {
   "cell_type": "code",
   "execution_count": 5,
   "id": "e65dbe63",
   "metadata": {},
   "outputs": [
    {
     "data": {
      "text/plain": [
       "['TR-start',\n",
       " 'xx-JT',\n",
       " 'xx-TR',\n",
       " 'hc-dd',\n",
       " 'ab-JT',\n",
       " 'hc-end',\n",
       " 'dd-JT',\n",
       " 'ab-dd',\n",
       " 'TR-ab',\n",
       " 'vh-xx',\n",
       " 'hc-JT',\n",
       " 'TR-vh',\n",
       " 'xx-start',\n",
       " 'hc-ME',\n",
       " 'vh-dd',\n",
       " 'JT-bm',\n",
       " 'end-ab',\n",
       " 'dd-xx',\n",
       " 'end-TR',\n",
       " 'hc-TR',\n",
       " 'start-vh']"
      ]
     },
     "execution_count": 5,
     "metadata": {},
     "output_type": "execute_result"
    }
   ],
   "source": [
    "with open(\"input12.txt\") as f:\n",
    "    inp = [x[:-1] for x in f.readlines()]\n",
    "inp"
   ]
  },
  {
   "cell_type": "code",
   "execution_count": 6,
   "id": "38c68a21",
   "metadata": {},
   "outputs": [
    {
     "data": {
      "text/plain": [
       "5157"
      ]
     },
     "execution_count": 6,
     "metadata": {},
     "output_type": "execute_result"
    }
   ],
   "source": [
    "def list_to_graph(l):\n",
    "    \"\"\"Represents the graph as a dictionary vertex:set of vertices connected to it\"\"\"\n",
    "    graph = dict()\n",
    "    for x in l:\n",
    "        x = x.split('-')\n",
    "        if x[0] not in graph.keys(): \n",
    "            graph[x[0]] = [x[1]]\n",
    "        else:\n",
    "            graph[x[0]].append(x[1])\n",
    "        if x[1] not in graph.keys(): \n",
    "            graph[x[1]] = [x[0]]\n",
    "        else:\n",
    "            graph[x[1]].append(x[0])\n",
    "    return graph\n",
    "\n",
    "def continue_paths(graph, path_list):\n",
    "    new_paths = []\n",
    "    for path in path_list:\n",
    "        if path[-1] == 'end':\n",
    "            new_paths.append(path)\n",
    "        else:\n",
    "            for x in graph[path[-1]]:\n",
    "                new_path = path.copy()\n",
    "                if x not in path or x.isupper(): \n",
    "                    new_path.append(x)\n",
    "                    new_paths.append(new_path)\n",
    "    return new_paths\n",
    "\n",
    "def iter_paths(graph, cont_paths):\n",
    "    path_list=[['start']]\n",
    "    while set([x[-1] for x in path_list]) != {'end'}:\n",
    "        path_list = cont_paths(graph, path_list)\n",
    "    return path_list\n",
    "        \n",
    "\n",
    "graph = list_to_graph(inp)\n",
    "len(iter_paths(graph, continue_paths))"
   ]
  },
  {
   "cell_type": "markdown",
   "id": "c5e0b5f5",
   "metadata": {},
   "source": [
    "# Part 2"
   ]
  },
  {
   "cell_type": "code",
   "execution_count": 14,
   "id": "5f67cf66",
   "metadata": {},
   "outputs": [
    {
     "data": {
      "text/plain": [
       "1.6174204349517822"
      ]
     },
     "execution_count": 14,
     "metadata": {},
     "output_type": "execute_result"
    }
   ],
   "source": [
    "def cont_paths2(graph, path_list):\n",
    "    new_paths = []\n",
    "    for path in path_list:\n",
    "        if path[-1] == 'end':\n",
    "            new_paths.append(path)\n",
    "        else:\n",
    "            small_visited = [x for x in path if x.islower()]\n",
    "            twice = [x for x in small_visited if small_visited.count(x)>1]\n",
    "            for x in graph[path[-1]]:\n",
    "                new_path = path.copy()\n",
    "                if twice:\n",
    "                    if x not in path or x.isupper():\n",
    "                        new_path.append(x)\n",
    "                        new_paths.append(new_path)                       \n",
    "                elif x != 'start': \n",
    "                    new_path.append(x)\n",
    "                    new_paths.append(new_path)\n",
    "    return new_paths\n",
    "\n",
    "graph = list_to_graph(inp)\n",
    "s = time()\n",
    "len(iter_paths(graph, cont_paths2))\n",
    "end=time()\n",
    "end-s"
   ]
  },
  {
   "cell_type": "markdown",
   "id": "c378fd0d",
   "metadata": {},
   "source": [
    "# Better solution"
   ]
  },
  {
   "cell_type": "code",
   "execution_count": 7,
   "id": "f402030c",
   "metadata": {},
   "outputs": [
    {
     "data": {
      "text/plain": [
       "0.016130685806274414"
      ]
     },
     "execution_count": 7,
     "metadata": {},
     "output_type": "execute_result"
    }
   ],
   "source": [
    "with open(\"input12.txt\") as f:\n",
    "    inp = [x[:-1] for x in f.readlines()]\n",
    "    \n",
    "def list_to_graph(l):\n",
    "    \"\"\"Represents the graph as a dictionary vertex:set of vertices connected to it\"\"\"\n",
    "    graph = dict()\n",
    "    for x in l:\n",
    "        x = x.split('-')\n",
    "        if x[0] not in graph.keys(): \n",
    "            graph[x[0]] = [x[1]]\n",
    "        else:\n",
    "            graph[x[0]].append(x[1])\n",
    "        if x[1] not in graph.keys(): \n",
    "            graph[x[1]] = [x[0]]\n",
    "        else:\n",
    "            graph[x[1]].append(x[0])\n",
    "    return graph\n",
    "\n",
    "#Part 1\n",
    "\n",
    "def find_paths(graph, path_list, count):\n",
    "    if path_list == []:\n",
    "        return count\n",
    "    new_paths = []\n",
    "    for path in path_list:\n",
    "        if path[-1] == 'end':\n",
    "            count += 1\n",
    "        else:\n",
    "            for x in graph[path[-1]]:\n",
    "                if x not in path or x.isupper(): \n",
    "                    new_paths.append(path + [x])\n",
    "    return find_paths(graph, new_paths, count)\n",
    "\n",
    "graph = list_to_graph(inp)\n",
    "find_paths(graph, [['start']], 0)"
   ]
  },
  {
   "cell_type": "code",
   "execution_count": 11,
   "id": "f741c793",
   "metadata": {},
   "outputs": [
    {
     "data": {
      "text/plain": [
       "144309"
      ]
     },
     "execution_count": 11,
     "metadata": {},
     "output_type": "execute_result"
    }
   ],
   "source": [
    "#Part 2\n",
    "\n",
    "def find_paths2(graph, path_list, count):\n",
    "    if path_list == []:\n",
    "        return count\n",
    "    new_paths = []\n",
    "    for path in path_list:\n",
    "        if path[-1] == 'end':\n",
    "            count += 1\n",
    "        else:\n",
    "            small_visited = [x for x in path if x.islower()]\n",
    "            twice = [x for x in small_visited if small_visited.count(x)>1]\n",
    "            for x in graph[path[-1]]:\n",
    "                if twice:\n",
    "                    if x not in path or x.isupper():\n",
    "                        new_paths.append(path + [x])                       \n",
    "                elif x != 'start': \n",
    "                    new_paths.append(path + [x])\n",
    "    return find_paths2(graph, new_paths, count)\n",
    "\n",
    "find_paths2(graph, [['start']], 0)"
   ]
  }
 ],
 "metadata": {
  "kernelspec": {
   "display_name": "Python 3",
   "language": "python",
   "name": "python3"
  },
  "language_info": {
   "codemirror_mode": {
    "name": "ipython",
    "version": 3
   },
   "file_extension": ".py",
   "mimetype": "text/x-python",
   "name": "python",
   "nbconvert_exporter": "python",
   "pygments_lexer": "ipython3",
   "version": "3.8.8"
  }
 },
 "nbformat": 4,
 "nbformat_minor": 5
}
