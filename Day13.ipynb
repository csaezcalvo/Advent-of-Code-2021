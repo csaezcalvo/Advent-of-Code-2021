{
 "cells": [
  {
   "cell_type": "code",
   "execution_count": 103,
   "id": "61c84c96",
   "metadata": {},
   "outputs": [],
   "source": [
    "with open(\"input13.txt\") as f:\n",
    "    points, folds = [], []\n",
    "    for line in f.readlines():\n",
    "        if line[0] in '1234567890':\n",
    "            points.append((int(line.split(',')[0]), int(line.split(',')[1])))\n",
    "        elif line[:4] == 'fold':\n",
    "            folds.append((line[11], int(line[13:])))"
   ]
  },
  {
   "cell_type": "markdown",
   "id": "822f85d2",
   "metadata": {},
   "source": [
    "# Both parts"
   ]
  },
  {
   "cell_type": "code",
   "execution_count": 112,
   "id": "4353fca1",
   "metadata": {},
   "outputs": [
    {
     "name": "stdout",
     "output_type": "stream",
     "text": [
      "814\n",
      "###..####.####.#..#.###...##..####.###.\n",
      "#..#....#.#....#..#.#..#.#..#.#....#..#\n",
      "#..#...#..###..####.#..#.#..#.###..#..#\n",
      "###...#...#....#..#.###..####.#....###.\n",
      "#....#....#....#..#.#.#..#..#.#....#.#.\n",
      "#....####.####.#..#.#..#.#..#.####.#..#\n"
     ]
    }
   ],
   "source": [
    "def plot(points):\n",
    "    ncols = max([point[0] for point in points])+1\n",
    "    nrows = max([point[1] for point in points])+1\n",
    "    for i in range(nrows):\n",
    "        print(''.join(['#' if (j,i) in points else '.' for j in range(ncols)]))\n",
    "    \n",
    "def do_fold(points, fold):\n",
    "    new_points = []\n",
    "    if fold[0] == 'x':\n",
    "        for point in points:\n",
    "            new_points.append(point) if point[0] < fold[1] else new_points.append((-(point[0]-fold[1])+fold[1], point[1]))\n",
    "    if fold[0] == 'y':\n",
    "        for point in points:\n",
    "            new_points.append(point) if point[1] < fold[1] else new_points.append((point[0], -(point[1]-fold[1])+fold[1]))\n",
    "    return list(set(new_points))\n",
    "\n",
    "def iter_folds(points, folds):\n",
    "    for fold in folds:\n",
    "        points = do_fold(points, fold)\n",
    "    return points\n",
    "\n",
    "#Part 1\n",
    "print(len(do_fold(points, folds[0])))\n",
    "\n",
    "#Part 2\n",
    "final_points = iter_folds(points, folds)\n",
    "plot(final_points)"
   ]
  }
 ],
 "metadata": {
  "kernelspec": {
   "display_name": "Python 3",
   "language": "python",
   "name": "python3"
  },
  "language_info": {
   "codemirror_mode": {
    "name": "ipython",
    "version": 3
   },
   "file_extension": ".py",
   "mimetype": "text/x-python",
   "name": "python",
   "nbconvert_exporter": "python",
   "pygments_lexer": "ipython3",
   "version": "3.8.8"
  }
 },
 "nbformat": 4,
 "nbformat_minor": 5
}
