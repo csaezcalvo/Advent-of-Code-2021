{
 "cells": [
  {
   "cell_type": "code",
   "execution_count": 108,
   "id": "07938f9a",
   "metadata": {},
   "outputs": [],
   "source": [
    "with open(\"input15.txt\") as f:\n",
    "    inp = [x[:-1] for x in f.readlines()]\n",
    "data = [[int(x) for x in y] for y in inp]"
   ]
  },
  {
   "cell_type": "markdown",
   "id": "64e6c748",
   "metadata": {},
   "source": [
    "# Part 1"
   ]
  },
  {
   "cell_type": "code",
   "execution_count": 118,
   "id": "fb17358e",
   "metadata": {},
   "outputs": [
    {
     "name": "stdout",
     "output_type": "stream",
     "text": [
      "811\n",
      "6.4087207317352295\n",
      "811\n",
      "0.18963885307312012\n"
     ]
    }
   ],
   "source": [
    "import numpy as np\n",
    "from time import time\n",
    "\n",
    "def dijkstra(data):\n",
    "    nrows = len(data)\n",
    "    ncols = len(data[0])\n",
    "    #Initial node\n",
    "    node = (0,0)\n",
    "    #Set up sets of univisited nodes and visited nodes\n",
    "    unvisited = {(i,j) for i in range(nrows) for j in range(ncols)}\n",
    "    visited = set()\n",
    "    #Set up initial tentative distance matrix\n",
    "    tent_dist = [[np.inf for j in range(ncols)] for i in range(nrows)]\n",
    "    tent_dist[0][0] = 0\n",
    "    \n",
    "    while len(unvisited) > 0:\n",
    "        nbhs = [(node[0] + i, node[1] + j) for i in [-1,0,1] for j in [-1,0,1]\\\n",
    "                if (i==0 or j==0) and not(i==0 and j==0) and 0<=node[0]+i<=nrows-1 and 0<=node[1]+j<=ncols-1]\n",
    "        # Compute new tentative distances for all unvisited nbhs of current node\n",
    "        for pos in [x for x in nbhs if x not in visited]:\n",
    "            new_dist = tent_dist[node[0]][node[1]] + data[pos[0]][pos[1]]\n",
    "            if new_dist < tent_dist[pos[0]][pos[1]]:\n",
    "                tent_dist[pos[0]][pos[1]] = new_dist\n",
    "        # Remove current node from unvisited and add to visited\n",
    "        visited.add(node)\n",
    "        unvisited = unvisited - {node}\n",
    "        # Select new node as the least tent distance node from unvisited\n",
    "        if unvisited:\n",
    "            node = min(unvisited, key=lambda x: tent_dist[x[0]][x[1]])\n",
    "    return tent_dist[nrows-1][ncols-1]\n",
    "\n",
    "def manhattan(p,q):\n",
    "    return abs(p[0]-q[0])+abs(p[1]-q[1])\n",
    "\n",
    "def a_star(data, h):\n",
    "    # data is the cost matrix, h is the heuristic function\n",
    "    nrows, ncols = len(data), len(data[0])\n",
    "    # Define start and goal nodes\n",
    "    start, goal = (0,0), (nrows-1, ncols-1)\n",
    "    # Set up matrix of tentative distance from start\n",
    "    gscore = [[np.inf for j in range(ncols)] for i in range(nrows)]\n",
    "    gscore[0][0] = 0\n",
    "    # Set up matrix of tentative distance to goal following heuristic h \n",
    "    fscore = [[np.inf for j in range(ncols)] for i in range(nrows)]\n",
    "    fscore[0][0] = h(start, goal)\n",
    "    # Set up the open set\n",
    "    open_set = {start}\n",
    "    \n",
    "    while len(open_set) > 0:\n",
    "        # Set current node to the one having min tent dist to goal\n",
    "        node = min(open_set, key=lambda x: fscore[x[0]][x[1]])\n",
    "        open_set = open_set - {node}\n",
    "        # Define nbhs of current node\n",
    "        nbhs = [(node[0] + i, node[1] + j) for i in [-1,0,1] for j in [-1,0,1]\\\n",
    "                if (i==0 or j==0) and not(i==0 and j==0) and 0<=node[0]+i<=nrows-1 and 0<=node[1]+j<=ncols-1]\n",
    "\n",
    "        for pos in nbhs:\n",
    "            tent_gscore = gscore[node[0]][node[1]] + data[pos[0]][pos[1]] \n",
    "            if tent_gscore < gscore[pos[0]][pos[1]]:\n",
    "                gscore[pos[0]][pos[1]] = tent_gscore\n",
    "                fscore[pos[0]][pos[1]] = tent_gscore + h(pos, goal)\n",
    "                if pos not in open_set:\n",
    "                    open_set.add(pos)\n",
    "        \n",
    "    return fscore[goal[0]][goal[1]]\n",
    "\n",
    "# Dijkstra\n",
    "start = time()\n",
    "print(dijkstra(data))\n",
    "end=time()\n",
    "print(end-start)\n",
    "\n",
    "#A*\n",
    "start = time()\n",
    "print(a_star(data, manhattan))\n",
    "end=time()\n",
    "print(end-start)"
   ]
  },
  {
   "cell_type": "markdown",
   "id": "1a934594",
   "metadata": {},
   "source": [
    "# Part 2"
   ]
  },
  {
   "cell_type": "code",
   "execution_count": 113,
   "id": "cba5f146",
   "metadata": {},
   "outputs": [
    {
     "name": "stdout",
     "output_type": "stream",
     "text": [
      "3012\n"
     ]
    },
    {
     "data": {
      "text/plain": [
       "27.561350345611572"
      ]
     },
     "execution_count": 113,
     "metadata": {},
     "output_type": "execute_result"
    }
   ],
   "source": [
    "def new_tile(data, k):\n",
    "    \"\"\"New tile with k risk added\"\"\"\n",
    "    nrows, ncols = len(data), len(data[0])\n",
    "    return [[data[i][j]+k if data[i][j]+k<10 else (data[i][j]+k)%10+1 for j in range(ncols)] for i in range(nrows)]\n",
    "\n",
    "def repeat_map(data, n):\n",
    "    new_data = []\n",
    "    for i in range(n):\n",
    "        new_data = new_data + new_tile(data, i)\n",
    "    full_data = new_data.copy()\n",
    "    for j in range(1,n):\n",
    "        full_data = [full_data[i] + new_tile(new_data,j)[i] for i in range(len(new_data))]\n",
    "    return full_data\n",
    "    \n",
    "full_map = repeat_map(data,5)\n",
    "start = time()\n",
    "print(a_star(full_map, manhattan))\n",
    "end=time()\n",
    "end-start"
   ]
  }
 ],
 "metadata": {
  "kernelspec": {
   "display_name": "Python 3",
   "language": "python",
   "name": "python3"
  },
  "language_info": {
   "codemirror_mode": {
    "name": "ipython",
    "version": 3
   },
   "file_extension": ".py",
   "mimetype": "text/x-python",
   "name": "python",
   "nbconvert_exporter": "python",
   "pygments_lexer": "ipython3",
   "version": "3.8.8"
  }
 },
 "nbformat": 4,
 "nbformat_minor": 5
}
