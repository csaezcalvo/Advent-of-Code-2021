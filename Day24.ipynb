{
 "cells": [
  {
   "cell_type": "code",
   "execution_count": 2,
   "id": "0a8ad41b",
   "metadata": {},
   "outputs": [],
   "source": [
    "# The function for a given w is equivalent to the following one:\n",
    "def f(w, z, b, c):\n",
    "    if b>0:\n",
    "        return 26*z + w + c\n",
    "    else:\n",
    "        z = z//26 if z%26 == w-b else 26*(z//26) + w + c \n",
    "    return z\n",
    "\n",
    "params = [(11,6), (13,14), (15,14), (-8,10), (13, 9), (15,12), (-11,8), (-4,13), \\\n",
    "         (-15,12), (14, 6), (14, 9), (-1,15), (-8,4), (-14,10)]"
   ]
  },
  {
   "cell_type": "code",
   "execution_count": null,
   "id": "1b4c442d",
   "metadata": {},
   "outputs": [],
   "source": [
    "#Largest:\n",
    "\n",
    "#ok w0 = 9 : [15]\n",
    "#ok w1 = 9 : [15, 23]\n",
    "#ok w2 = 3 : [15, 23, 17]\n",
    "#ok w3 = 9 : [15, 23]           -\n",
    "#ok w4 = 4 : [15, 23, 13]\n",
    "#ok w5 = 8 : [15, 23, 13, 20]\n",
    "#ok w6 = 9 : [15, 23, 13]       -  \n",
    "#ok w7 = 9 : [15, 23]           - \n",
    "#ok w8 = 8 : [15]               -\n",
    "#ok w9 = 9 : [15, 15]\n",
    "#ok w10 = 1 : [15, 15, 10]\n",
    "#ok w11 = 9 : [15, 15]          -\n",
    "#ok w12 = 7 : [15]              -\n",
    "#ok w13 = 1 : []                -"
   ]
  },
  {
   "cell_type": "code",
   "execution_count": 9,
   "id": "1679c319",
   "metadata": {},
   "outputs": [
    {
     "data": {
      "text/plain": [
       "[(2, 3), (5, 6), (4, 7), (1, 8), (10, 11), (9, 12), (0, 13)]"
      ]
     },
     "execution_count": 9,
     "metadata": {},
     "output_type": "execute_result"
    }
   ],
   "source": [
    "params = [(11,6), (13,14), (15,14), (-8,10), (13, 9), (15,12), (-11,8), (-4,13), \\\n",
    "         (-15,12), (14, 6), (14, 9), (-1,15), (-8,4), (-14,10)]\n",
    "\n",
    "def find_pairs(params):\n",
    "    \"\"\"Matches pairs of corresponding numbers (the first introduces a residue and the second deletes it)\"\"\"\n",
    "    pairs = []\n",
    "    stack = []\n",
    "    for i in range(len(params)):\n",
    "        if params[i][0]>0:\n",
    "            stack.append(i)\n",
    "        else:\n",
    "            x = stack.pop()\n",
    "            pairs.append((x,i))\n",
    "    return pairs\n",
    "\n",
    "find_pairs(params)"
   ]
  },
  {
   "cell_type": "code",
   "execution_count": 21,
   "id": "7d89b3bf",
   "metadata": {},
   "outputs": [
    {
     "data": {
      "text/plain": [
       "92171126131911"
      ]
     },
     "execution_count": 21,
     "metadata": {},
     "output_type": "execute_result"
    }
   ],
   "source": [
    "def solve(params, large=True):\n",
    "    \"\"\"Finds largest valid key if large is True, else the smallest\"\"\"\n",
    "    num = [0,0,0,0,0,0,0,0,0,0,0,0,0,0]\n",
    "    pairs = find_pairs(params)\n",
    "    for pair in pairs:\n",
    "        init, fin = pair\n",
    "        if large:\n",
    "            if 9+params[init][1] <= 9-params[fin][0]:\n",
    "                num[init] = 9\n",
    "                num[fin] = 9+params[init][1]+params[fin][0]\n",
    "            else:\n",
    "                num[fin] = 9\n",
    "                num[init] = 9 - params[fin][0] -params[init][1]\n",
    "        else:\n",
    "            if 1+params[init][1] <= 1-params[fin][0]:\n",
    "                num[fin] = 1\n",
    "                num[init] = 1-params[fin][0]-params[init][1]\n",
    "            else:\n",
    "                num[init] = 1\n",
    "                num[fin] = 1 + params[init][1] + params[fin][0]\n",
    "                                                                       \n",
    "    return sum([x*10**(14-i-1) for i,x in enumerate(num)])\n",
    "        \n",
    "solve(params, large=False)"
   ]
  },
  {
   "cell_type": "code",
   "execution_count": 22,
   "id": "53aafa41",
   "metadata": {},
   "outputs": [
    {
     "data": {
      "text/plain": [
       "0"
      ]
     },
     "execution_count": 22,
     "metadata": {},
     "output_type": "execute_result"
    }
   ],
   "source": [
    "def checker(num, params):\n",
    "    num = [int(i) for i in str(num)]\n",
    "    z = 0\n",
    "    for i,w in enumerate(num):\n",
    "        z = f(w, z, params[i][0], params[i][1])\n",
    "    return z\n",
    "\n",
    "checker(92171126131911, params)"
   ]
  }
 ],
 "metadata": {
  "kernelspec": {
   "display_name": "Python 3",
   "language": "python",
   "name": "python3"
  },
  "language_info": {
   "codemirror_mode": {
    "name": "ipython",
    "version": 3
   },
   "file_extension": ".py",
   "mimetype": "text/x-python",
   "name": "python",
   "nbconvert_exporter": "python",
   "pygments_lexer": "ipython3",
   "version": "3.8.8"
  }
 },
 "nbformat": 4,
 "nbformat_minor": 5
}
