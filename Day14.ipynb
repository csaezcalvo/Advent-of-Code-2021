{
 "cells": [
  {
   "cell_type": "code",
   "execution_count": 3,
   "id": "e691707f",
   "metadata": {},
   "outputs": [],
   "source": [
    "with open(\"input14.txt\") as f:\n",
    "    inp = [x[:-1] for x in f.readlines()]\n",
    "\n",
    "temp = inp[0]\n",
    "pair_ins = {x[0]:x[1] for x in [y.split(' -> ') for y in inp[2:]]}"
   ]
  },
  {
   "cell_type": "code",
   "execution_count": 4,
   "id": "573b3d61",
   "metadata": {},
   "outputs": [
    {
     "name": "stdout",
     "output_type": "stream",
     "text": [
      "3118\n",
      "4332887448171\n"
     ]
    }
   ],
   "source": [
    "def split_pairs(temp):\n",
    "    \"\"\"From line returns a dict with counts of pairs\"\"\"\n",
    "    pairs = dict()\n",
    "    for i in range(len(temp)-1):\n",
    "        if temp[i:i+2] in pairs.keys(): pairs[temp[i:i+2]] = pairs[temp[i:i+2]] + 1 \n",
    "        else: pairs[temp[i:i+2]] = 1 \n",
    "    return pairs\n",
    "\n",
    "def insert(pairs, pair_ins):\n",
    "    new_pairs = dict()\n",
    "    for key in pairs:\n",
    "        letter = pair_ins[key]\n",
    "        for pair in [key[0]+letter, letter+key[1]]:\n",
    "            if pair in new_pairs.keys(): \n",
    "                new_pairs[pair] += pairs[key]\n",
    "            else: \n",
    "                new_pairs[pair] = pairs[key]\n",
    "    return new_pairs\n",
    "\n",
    "def iter_insert(pairs, pair_ins, nsteps):\n",
    "    for _ in range(nsteps):\n",
    "        pairs = insert(pairs, pair_ins)\n",
    "    return pairs\n",
    "\n",
    "def count_letters(pairs, first, last):\n",
    "    let_count = {x:0 for y in pairs for x in y}\n",
    "    for key in pairs:\n",
    "        for l in key:\n",
    "            let_count[l] += pairs[key]\n",
    "    # The first and last letters only occur in one pair, the rest in 2\n",
    "    let_count[first] += 1\n",
    "    let_count[last] += 1\n",
    "    for key in let_count:\n",
    "        let_count[key] = let_count[key]//2\n",
    "    return let_count\n",
    "\n",
    "pairs = split_pairs(temp)\n",
    "\n",
    "#Part 1\n",
    "\n",
    "counts = count_letters(iter_insert(pairs, pair_ins, 10), temp[0], temp[-1])\n",
    "print(max(counts.values()) - min(counts.values()))\n",
    "\n",
    "#Part 2\n",
    "counts = count_letters(iter_insert(pairs, pair_ins, 40), temp[0], temp[-1])\n",
    "print(max(counts.values()) - min(counts.values()))"
   ]
  }
 ],
 "metadata": {
  "kernelspec": {
   "display_name": "Python 3",
   "language": "python",
   "name": "python3"
  },
  "language_info": {
   "codemirror_mode": {
    "name": "ipython",
    "version": 3
   },
   "file_extension": ".py",
   "mimetype": "text/x-python",
   "name": "python",
   "nbconvert_exporter": "python",
   "pygments_lexer": "ipython3",
   "version": "3.8.8"
  }
 },
 "nbformat": 4,
 "nbformat_minor": 5
}
