{
 "cells": [
  {
   "cell_type": "code",
   "execution_count": 3,
   "id": "9d867405",
   "metadata": {},
   "outputs": [
    {
     "data": {
      "text/plain": [
       "['6227618536',\n",
       " '2368158384',\n",
       " '5385414113',\n",
       " '4556757523',\n",
       " '6746486724',\n",
       " '4881323884',\n",
       " '4648263744',\n",
       " '4871332872',\n",
       " '4724128228',\n",
       " '4316512167']"
      ]
     },
     "execution_count": 3,
     "metadata": {},
     "output_type": "execute_result"
    }
   ],
   "source": [
    "with open(\"input11.txt\") as f:\n",
    "    inp = [x[:-1] for x in f.readlines()]\n",
    "inp"
   ]
  },
  {
   "cell_type": "markdown",
   "id": "61d891ca",
   "metadata": {},
   "source": [
    "# Part 1"
   ]
  },
  {
   "cell_type": "code",
   "execution_count": 4,
   "id": "c8959a5f",
   "metadata": {},
   "outputs": [
    {
     "data": {
      "text/plain": [
       "1681"
      ]
     },
     "execution_count": 4,
     "metadata": {},
     "output_type": "execute_result"
    }
   ],
   "source": [
    "import numpy as np\n",
    "data = np.array([[int(x) for x in y] for y in inp])\n",
    "\n",
    "def one_step(matrix):\n",
    "    matrix = np.pad(matrix, ((1,),(1,)), constant_values=np.NINF)\n",
    "    to_flash = []\n",
    "    flashed = []\n",
    "    for i in range(1, len(matrix)-1):\n",
    "        for j in range(1,len(matrix[0])-1):\n",
    "            matrix[i,j] += 1\n",
    "            if matrix[i,j] > 9:\n",
    "                matrix[i,j] = 0\n",
    "                to_flash.append((i,j))\n",
    "    \n",
    "    while to_flash != []:\n",
    "        pos = to_flash.pop()\n",
    "        flashed.append(pos)\n",
    "        for i in range(-1,2):\n",
    "            for j in range(-1,2):\n",
    "                if 0 < matrix[pos[0] + i, pos[1] + j] < 9:\n",
    "                    matrix[pos[0] + i,pos[1] + j] += 1\n",
    "                elif matrix[pos[0] + i, pos[1] + j] == 9:\n",
    "                    matrix[pos[0] + i,pos[1] + j] = 0\n",
    "                    to_flash.append((pos[0] + i, pos[1] + j))    \n",
    "    return matrix[1:len(matrix)-1, 1:len(matrix)-1], len(flashed)\n",
    "\n",
    "def simulate(matrix, nsteps):\n",
    "    count = 0\n",
    "    for _ in range(nsteps):\n",
    "        matrix, flashes = one_step(matrix)\n",
    "        count += flashes\n",
    "    return count\n",
    "\n",
    "simulate(data, 100)"
   ]
  },
  {
   "cell_type": "markdown",
   "id": "6986aa34",
   "metadata": {},
   "source": [
    "# Part 2"
   ]
  },
  {
   "cell_type": "code",
   "execution_count": 5,
   "id": "8fdf6d8e",
   "metadata": {},
   "outputs": [
    {
     "data": {
      "text/plain": [
       "276"
      ]
     },
     "execution_count": 5,
     "metadata": {},
     "output_type": "execute_result"
    }
   ],
   "source": [
    "def first_synchro(matrix):\n",
    "    count = 0\n",
    "    while count < 1000:\n",
    "        matrix, flashes = one_step(matrix)\n",
    "        count += 1\n",
    "        if flashes == len(matrix)**2:\n",
    "            return count\n",
    "\n",
    "first_synchro(data)        "
   ]
  },
  {
   "cell_type": "markdown",
   "id": "5e7ce43a",
   "metadata": {},
   "source": [
    "# With recursion (unfinished)"
   ]
  },
  {
   "cell_type": "code",
   "execution_count": 9,
   "id": "44358365",
   "metadata": {},
   "outputs": [
    {
     "data": {
      "text/plain": [
       "1681"
      ]
     },
     "execution_count": 9,
     "metadata": {},
     "output_type": "execute_result"
    }
   ],
   "source": [
    "def one_step_rec(matrix):\n",
    "    matrix = np.pad(matrix, ((1,),(1,)), constant_values=np.NINF)\n",
    "    to_flash = []\n",
    "    flashed = []\n",
    "    for i in range(1, len(matrix)-1):\n",
    "        for j in range(1,len(matrix[0])-1):\n",
    "            matrix[i,j] += 1\n",
    "            if matrix[i,j] > 9:\n",
    "                matrix[i,j] = 0\n",
    "                to_flash.append((i,j))\n",
    "    matrix, to_flash, flahed = flash(matrix, to_flash, flashed)\n",
    "    return matrix[1:len(matrix)-1, 1:len(matrix)-1]\n",
    "\n",
    "\n",
    "def flash(matrix, to_flash, flashed):\n",
    "    # We assume padded matrix to avoid edge cases, position relative to padded matrix\n",
    "    if not to_flash:\n",
    "        return matrix, to_flash, flashed\n",
    "    pos = to_flash.pop()\n",
    "    flashed.append(pos)\n",
    "    submatrix = matrix[pos[0]-1:pos[0]+2, pos[1]-1:pos[1]+2]\n",
    "    for i in range(len(submatrix)):\n",
    "        for j in range(len(submatrix)):\n",
    "            if 0 < submatrix[i,j] < 9:\n",
    "                submatrix[i,j] += 1\n",
    "            elif submatrix[i,j] == 9:\n",
    "                submatrix[i,j] = 0\n",
    "                to_flash.append((pos[0]-1+i,pos[1]-1+j))\n",
    "    print(matrix, to_flash, flashed)\n",
    "    matrix, to_flash, flashed = flash(matrix, to_flash, flashed)\n",
    "\n",
    "def simulate_rec(matrix, nsteps):\n",
    "    count = 0\n",
    "    for _ in range(nsteps):\n",
    "        matrix, flashes = one_step(matrix)\n",
    "        count += flashes\n",
    "    return count\n",
    "\n",
    "simulate_rec(data, 100)"
   ]
  }
 ],
 "metadata": {
  "kernelspec": {
   "display_name": "Python 3",
   "language": "python",
   "name": "python3"
  },
  "language_info": {
   "codemirror_mode": {
    "name": "ipython",
    "version": 3
   },
   "file_extension": ".py",
   "mimetype": "text/x-python",
   "name": "python",
   "nbconvert_exporter": "python",
   "pygments_lexer": "ipython3",
   "version": "3.8.8"
  }
 },
 "nbformat": 4,
 "nbformat_minor": 5
}
