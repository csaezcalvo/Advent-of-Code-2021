{
 "cells": [
  {
   "cell_type": "markdown",
   "id": "4c59c64f",
   "metadata": {},
   "source": [
    "# First part"
   ]
  },
  {
   "cell_type": "code",
   "execution_count": 15,
   "id": "f2b176aa",
   "metadata": {},
   "outputs": [
    {
     "data": {
      "text/plain": [
       "1446"
      ]
     },
     "execution_count": 15,
     "metadata": {},
     "output_type": "execute_result"
    }
   ],
   "source": [
    "f = open('input1.txt')\n",
    "depths = [int(x) for x in f.readlines()]\n",
    "f.close()\n",
    "\n",
    "def incr_count(l):\n",
    "    increase = 0\n",
    "    for i in range(1,len(l)):\n",
    "        if l[i] > l[i-1]:\n",
    "            increase += 1\n",
    "    return increase\n",
    "incr_count(depths)"
   ]
  },
  {
   "cell_type": "markdown",
   "id": "c027f10a",
   "metadata": {},
   "source": [
    "### Fast way"
   ]
  },
  {
   "cell_type": "code",
   "execution_count": 16,
   "id": "42674cd2",
   "metadata": {},
   "outputs": [
    {
     "data": {
      "text/plain": [
       "1446"
      ]
     },
     "execution_count": 16,
     "metadata": {},
     "output_type": "execute_result"
    }
   ],
   "source": [
    "def incr_count2(l):\n",
    "    return sum([a>b for (a,b) in zip(l[1:], l)])\n",
    "incr_count2(depths)"
   ]
  },
  {
   "cell_type": "markdown",
   "id": "b43219be",
   "metadata": {},
   "source": [
    "# Second part"
   ]
  },
  {
   "cell_type": "code",
   "execution_count": 17,
   "id": "3c770816",
   "metadata": {},
   "outputs": [
    {
     "data": {
      "text/plain": [
       "1486"
      ]
     },
     "execution_count": 17,
     "metadata": {},
     "output_type": "execute_result"
    }
   ],
   "source": [
    "def moving_sum(l, k):\n",
    "    mov_sums = []\n",
    "    for i in range(k,len(l)+1):\n",
    "        mov_sums.append(sum(l[i-k:i]))\n",
    "    return mov_sums\n",
    "incr_count(moving_sum(depths, 3))"
   ]
  },
  {
   "cell_type": "markdown",
   "id": "e70ed24b",
   "metadata": {},
   "source": [
    "### Fast way"
   ]
  },
  {
   "cell_type": "code",
   "execution_count": 19,
   "id": "5762547b",
   "metadata": {},
   "outputs": [
    {
     "data": {
      "text/plain": [
       "1486"
      ]
     },
     "execution_count": 19,
     "metadata": {},
     "output_type": "execute_result"
    }
   ],
   "source": [
    "def moving_sum2(l,k):\n",
    "    return [sum(x) for x in zip(*[l[i:] for i in range(k)])]\n",
    "\n",
    "incr_count2(moving_sum2(depths,3))"
   ]
  }
 ],
 "metadata": {
  "kernelspec": {
   "display_name": "Python 3",
   "language": "python",
   "name": "python3"
  },
  "language_info": {
   "codemirror_mode": {
    "name": "ipython",
    "version": 3
   },
   "file_extension": ".py",
   "mimetype": "text/x-python",
   "name": "python",
   "nbconvert_exporter": "python",
   "pygments_lexer": "ipython3",
   "version": "3.8.8"
  }
 },
 "nbformat": 4,
 "nbformat_minor": 5
}
