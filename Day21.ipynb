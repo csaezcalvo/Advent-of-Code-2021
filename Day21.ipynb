{
 "cells": [
  {
   "cell_type": "code",
   "execution_count": 47,
   "id": "8066fd71",
   "metadata": {},
   "outputs": [],
   "source": [
    "inp1 = 8\n",
    "inp2 = 2"
   ]
  },
  {
   "cell_type": "markdown",
   "id": "6d3ffa2c",
   "metadata": {},
   "source": [
    "# Part 1"
   ]
  },
  {
   "cell_type": "code",
   "execution_count": 48,
   "id": "1a93599a",
   "metadata": {},
   "outputs": [
    {
     "data": {
      "text/plain": [
       "513936"
      ]
     },
     "execution_count": 48,
     "metadata": {},
     "output_type": "execute_result"
    }
   ],
   "source": [
    "class Dice():\n",
    "    \n",
    "    def __init__(self):\n",
    "        self.value = 0\n",
    "        self.count = 0\n",
    "        \n",
    "    def throw(self):\n",
    "        self.value += 1\n",
    "        if self.value == 101:\n",
    "            self.value = 1\n",
    "        self.count += 1\n",
    "    \n",
    "    def throw_n(self, n):\n",
    "        tot = 0\n",
    "        for _ in range(n):\n",
    "            self.throw()\n",
    "            tot += self.value\n",
    "        return tot\n",
    "\n",
    "def rem(n,q):\n",
    "    if n%q==0:\n",
    "        return q\n",
    "    return n%q\n",
    "\n",
    "def next_turn(p, die):\n",
    "    p = rem(p + die.throw_n(3),10)\n",
    "    return p\n",
    "\n",
    "def winner(p1, p2):\n",
    "    die = Dice()\n",
    "    pts1 = 0\n",
    "    pts2 = 0\n",
    "    while max(pts1,pts2) < 1000:\n",
    "        p1 = next_turn(p1, die)\n",
    "        pts1 += p1\n",
    "        if pts1 >= 1000:\n",
    "            break\n",
    "        p2 = next_turn(p2, die)\n",
    "        pts2 += p2\n",
    "        if pts2 >= 1000:\n",
    "            break\n",
    "    return min(pts1,pts2)*die.count\n",
    "\n",
    "winner(inp1,inp2)"
   ]
  },
  {
   "cell_type": "markdown",
   "id": "ae50204c",
   "metadata": {},
   "source": [
    "# Part 2"
   ]
  },
  {
   "cell_type": "code",
   "execution_count": 56,
   "id": "abfd6bc9",
   "metadata": {},
   "outputs": [
    {
     "data": {
      "text/plain": [
       "105619718613031"
      ]
     },
     "execution_count": 56,
     "metadata": {},
     "output_type": "execute_result"
    }
   ],
   "source": [
    "dice = {3:1, 4:3, 5:6, 6:7, 7:6, 8:3, 9:1} #Dice with points:number of universes\n",
    "\n",
    "def play_once(inp, player, dice, win1, win2):\n",
    "    p = dict()\n",
    "    for i1,j1, i2, j2 in inp:\n",
    "        for n in dice:\n",
    "            if player == 1:\n",
    "                new_i = rem(i1 + n, 10)\n",
    "                if j1+new_i >= 21:\n",
    "                    win1 += inp[i1,j1,i2,j2]*dice[n]\n",
    "                else:\n",
    "                    if (new_i,j1+new_i,i2,j2) not in p.keys():\n",
    "                        p[new_i,j1+new_i,i2,j2] = inp[i1,j1,i2,j2]*dice[n]\n",
    "                    else:\n",
    "                        p[new_i,j1+new_i,i2,j2] += inp[i1,j1,i2,j2]*dice[n]\n",
    "            if player == 2:\n",
    "                new_i = rem(i2 + n, 10)\n",
    "                if j2+new_i >= 21:\n",
    "                    win2 += inp[i1,j1,i2,j2]*dice[n]\n",
    "                else:\n",
    "                    if (i1,j1,new_i,j2+new_i) not in p.keys():\n",
    "                        p[i1,j1,new_i,j2+new_i] = inp[i1,j1,i2,j2]*dice[n]\n",
    "                    else:\n",
    "                        p[i1,j1,new_i,j2+new_i] += inp[i1,j1,i2,j2]*dice[n]\n",
    "    return p, win1, win2   \n",
    "    \n",
    "\n",
    "def winner2(inp1, inp2):\n",
    "    p = dict()\n",
    "    win1 = 0\n",
    "    win2 = 0\n",
    "    p[(inp1,0,inp2,0)] = 1\n",
    "    \n",
    "    while p:\n",
    "        p, win1, win2 = play_once(p, 1, dice, win1, win2)\n",
    "        p, win1, win2 = play_once(p, 2, dice, win1, win2)\n",
    "    return win1, win2\n",
    "\n",
    "max(winner2(inp1,inp2))"
   ]
  }
 ],
 "metadata": {
  "kernelspec": {
   "display_name": "Python 3",
   "language": "python",
   "name": "python3"
  },
  "language_info": {
   "codemirror_mode": {
    "name": "ipython",
    "version": 3
   },
   "file_extension": ".py",
   "mimetype": "text/x-python",
   "name": "python",
   "nbconvert_exporter": "python",
   "pygments_lexer": "ipython3",
   "version": "3.8.8"
  }
 },
 "nbformat": 4,
 "nbformat_minor": 5
}
