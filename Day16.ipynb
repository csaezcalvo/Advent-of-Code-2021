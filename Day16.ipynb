{
 "cells": [
  {
   "cell_type": "code",
   "execution_count": 13,
   "id": "512e3713",
   "metadata": {},
   "outputs": [
    {
     "data": {
      "text/plain": [
       "'60556F980272DCE609BC01300042622C428BC200DC128C50FCC0159E9DB9AEA86003430BE5EFA8DB0AC401A4CA4E8A3400E6CFF7518F51A554100180956198529B6A700965634F96C0B99DCF4A13DF6D200DCE801A497FF5BE5FFD6B99DE2B11250034C00F5003900B1270024009D610031400E70020C0093002980652700298051310030C00F50028802B2200809C00F999EF39C79C8800849D398CE4027CCECBDA25A00D4040198D31920C8002170DA37C660009B26EFCA204FDF10E7A85E402304E0E60066A200F4638311C440198A11B635180233023A0094C6186630C44017E500345310FF0A65B0273982C929EEC0000264180390661FC403006E2EC1D86A600F43285504CC02A9D64931293779335983D300568035200042A29C55886200FC6A8B31CE647880323E0068E6E175E9B85D72525B743005646DA57C007CE6634C354CC698689BDBF1005F7231A0FE002F91067EF2E40167B17B503E666693FD9848803106252DFAD40E63D42020041648F24460400D8ECE007CBF26F92B0949B275C9402794338B329F88DC97D608028D9982BF802327D4A9FC10B803F33BD804E7B5DDAA4356014A646D1079E8467EF702A573FAF335EB74906CF5F2ACA00B43E8A460086002A3277BA74911C9531F613009A5CCE7D8248065000402B92D47F14B97C723B953C7B22392788A7CD62C1EC00D14CC23F1D94A3D100A1C200F42A8C51A00010A847176380002110EA31C713004A366006A0200C47483109C0010F8C10AE13C9CA9BDE59080325A0068A6B4CF333949EE635B495003273F76E000BCA47E2331A9DE5D698272F722200DDE801F098EDAC7131DB58E24F5C5D300627122456E58D4C01091C7A283E00ACD34CB20426500BA7F1EBDBBD209FAC75F579ACEB3E5D8FD2DD4E300565EBEDD32AD6008CCE3A492F98E15CC013C0086A5A12E7C46761DBB8CDDBD8BE656780'"
      ]
     },
     "execution_count": 13,
     "metadata": {},
     "output_type": "execute_result"
    }
   ],
   "source": [
    "with open(\"input16.txt\") as f:\n",
    "    inp = [x[:-1] for x in f.readlines()][0]\n",
    "inp"
   ]
  },
  {
   "cell_type": "markdown",
   "id": "0129ea1a",
   "metadata": {},
   "source": [
    "# Both parts"
   ]
  },
  {
   "cell_type": "code",
   "execution_count": 39,
   "id": "36129781",
   "metadata": {},
   "outputs": [],
   "source": [
    "# Auxiliary function\n",
    "def prod(l):\n",
    "    res = 1\n",
    "    for x in l:\n",
    "        res = res*x\n",
    "    return res\n",
    "\n",
    "# Implementing a tree-like class of packets\n",
    "class Packet():\n",
    "    \n",
    "    def __init__(self, bits):\n",
    "        self.bits = bits\n",
    "        self.version = int(bits[:3],2)\n",
    "        self.typeid = int(bits[3:6],2)\n",
    "        if self.typeid == 4:\n",
    "            self.num = self.parse_value(bits[6:])[0]\n",
    "            self.end = self.parse_value(bits[6:])[1]\n",
    "            self.version_sum = self.version\n",
    "            self.result = self.num\n",
    "        else: \n",
    "            self.packets = self.parse_packets(bits[6:])[0]\n",
    "            self.end = self.parse_packets(bits[6:])[1]\n",
    "            self.version_sum = self.version + sum([x.version_sum for x in self.packets])\n",
    "            if self.typeid == 0:\n",
    "                self.result = sum([x.result for x in self.packets])\n",
    "            elif self.typeid == 1:\n",
    "                self.result =  prod([x.result for x in self.packets])\n",
    "            elif self.typeid == 2:\n",
    "                self.result =  min([x.result for x in self.packets])\n",
    "            elif self.typeid == 3:\n",
    "                self.result =  max([x.result for x in self.packets])\n",
    "            elif self.typeid == 5:\n",
    "                self.result =  1 if self.packets[0].result > self.packets[1].result else 0\n",
    "            elif self.typeid == 6:\n",
    "                self.result =  1 if self.packets[0].result < self.packets[1].result else 0\n",
    "            elif self.typeid == 7:\n",
    "                self.result =  1 if self.packets[0].result == self.packets[1].result else 0\n",
    "        \n",
    "            \n",
    "    def parse_value(self, x):\n",
    "        \"\"\"Returns both value and ending index\"\"\"\n",
    "        num = \"\"\n",
    "        i=0\n",
    "        while True:\n",
    "            num += x[i+1:i+5]\n",
    "            i += 5\n",
    "            if x[i-5] == '0':\n",
    "                break\n",
    "        return int(num, 2), 6+i\n",
    "    \n",
    "    def parse_packets(self, x):\n",
    "        if x[0] == '0':\n",
    "            values = []\n",
    "            length = int(x[1:16], 2)\n",
    "            i = 16\n",
    "            while i < 16 + length:\n",
    "                packet = Packet(x[i:])\n",
    "                i += packet.end\n",
    "                values.append(packet)\n",
    "            return values, 6+i\n",
    "                \n",
    "        if x[0] == '1':\n",
    "            values = []\n",
    "            npackets = int(x[1:12], 2)\n",
    "            i = 12\n",
    "            for _ in range(npackets):\n",
    "                packet = Packet(x[i:])\n",
    "                i += packet.end\n",
    "                values.append(packet)\n",
    "            return values, 6+i             "
   ]
  },
  {
   "cell_type": "code",
   "execution_count": 40,
   "id": "cd651f25",
   "metadata": {
    "scrolled": true
   },
   "outputs": [],
   "source": [
    "def hex_to_bin(inp):\n",
    "    bits = []\n",
    "    for i in range(len(inp)):\n",
    "        bit = str(bin(int(inp[i],16)))[2:]\n",
    "        while len(bit)<4:\n",
    "            bit = '0'+bit\n",
    "        bits.append(bit)\n",
    "    return ''.join(bits)\n",
    "\n",
    "bits = hex_to_bin(inp)\n",
    "packet = Packet(bits)"
   ]
  },
  {
   "cell_type": "code",
   "execution_count": 41,
   "id": "6eda5d16",
   "metadata": {},
   "outputs": [
    {
     "data": {
      "text/plain": [
       "68703010504"
      ]
     },
     "execution_count": 41,
     "metadata": {},
     "output_type": "execute_result"
    }
   ],
   "source": [
    "# Part 1\n",
    "packet.version_sum\n",
    "# Part 2\n",
    "packet.result"
   ]
  }
 ],
 "metadata": {
  "kernelspec": {
   "display_name": "Python 3",
   "language": "python",
   "name": "python3"
  },
  "language_info": {
   "codemirror_mode": {
    "name": "ipython",
    "version": 3
   },
   "file_extension": ".py",
   "mimetype": "text/x-python",
   "name": "python",
   "nbconvert_exporter": "python",
   "pygments_lexer": "ipython3",
   "version": "3.8.8"
  }
 },
 "nbformat": 4,
 "nbformat_minor": 5
}
