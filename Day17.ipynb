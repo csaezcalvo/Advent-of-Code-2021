{
 "cells": [
  {
   "cell_type": "code",
   "execution_count": 44,
   "id": "42a4f951",
   "metadata": {},
   "outputs": [],
   "source": [
    "x_area = range(207,263+1)\n",
    "y_area = range(-115,-63+1)"
   ]
  },
  {
   "cell_type": "code",
   "execution_count": 45,
   "id": "481c0501",
   "metadata": {},
   "outputs": [
    {
     "data": {
      "text/plain": [
       "6555"
      ]
     },
     "execution_count": 45,
     "metadata": {},
     "output_type": "execute_result"
    }
   ],
   "source": [
    "def next_pos_vel(pos,vel):\n",
    "    new_pos, new_vel = [0,0], [0,0]\n",
    "    new_pos[0] = pos[0] + vel[0]\n",
    "    new_pos[1] = pos[1] + vel[1]\n",
    "    new_vel[0] = vel[0] - (vel[0])//abs(vel[0]) if vel[0] != 0 else 0\n",
    "    new_vel[1] = vel[1] -  1\n",
    "    return [new_pos[0],new_pos[1]], [new_vel[0],new_vel[1]]\n",
    "\n",
    "def in_range(in_pos, in_vel, x_area, y_area):\n",
    "    \"\"\"If True returns max y pos\"\"\"\n",
    "    pos, vel = [in_pos[0], in_pos[1]], [in_vel[0], in_vel[1]]\n",
    "    best_y = in_pos[1]\n",
    "    while not(pos[0] in x_area and pos[1] in y_area):\n",
    "        pos, vel = next_pos_vel(pos, vel)\n",
    "        if pos[1] > best_y: best_y = pos[1]\n",
    "        if pos[0]> x_area[-1] or pos[1]<y_area[0]:\n",
    "            return False, 0\n",
    "    return True, best_y\n",
    "\n",
    "def max_y(x_area, y_area):\n",
    "    max_x = x_area[-1]\n",
    "    min_y = y_area[0]\n",
    "    best_y = y_area[0]\n",
    "    for vel_x in range(max_x):\n",
    "        for vel_y in range(min_y+max_x):\n",
    "            a, b = in_range((0,0), (vel_x,vel_y), x_area, y_area)\n",
    "            if a and best_y < b: best_y = b\n",
    "    return best_y\n",
    "\n",
    "\n",
    "max_y(x_area, y_area)           "
   ]
  },
  {
   "cell_type": "markdown",
   "id": "5be8c452",
   "metadata": {},
   "source": [
    "# Part 2"
   ]
  },
  {
   "cell_type": "code",
   "execution_count": 46,
   "id": "b61afc3f",
   "metadata": {},
   "outputs": [
    {
     "data": {
      "text/plain": [
       "4973"
      ]
     },
     "execution_count": 46,
     "metadata": {},
     "output_type": "execute_result"
    }
   ],
   "source": [
    "def count_vel(x_area, y_area):\n",
    "    max_x = x_area[-1]\n",
    "    min_y = y_area[0]\n",
    "    count = 0\n",
    "    for vel_x in range(max_x+1):\n",
    "        for vel_y in range(min_y, min_y+max_x):\n",
    "            if in_range((0,0), (vel_x,vel_y), x_area, y_area)[0]:\n",
    "                count += 1\n",
    "    return count\n",
    "\n",
    "count_vel(x_area, y_area)"
   ]
  }
 ],
 "metadata": {
  "kernelspec": {
   "display_name": "Python 3",
   "language": "python",
   "name": "python3"
  },
  "language_info": {
   "codemirror_mode": {
    "name": "ipython",
    "version": 3
   },
   "file_extension": ".py",
   "mimetype": "text/x-python",
   "name": "python",
   "nbconvert_exporter": "python",
   "pygments_lexer": "ipython3",
   "version": "3.8.8"
  }
 },
 "nbformat": 4,
 "nbformat_minor": 5
}
