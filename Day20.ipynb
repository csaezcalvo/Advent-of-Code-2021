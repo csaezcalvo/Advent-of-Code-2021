{
 "cells": [
  {
   "cell_type": "code",
   "execution_count": 131,
   "id": "a7683ecf",
   "metadata": {},
   "outputs": [
    {
     "data": {
      "text/plain": [
       "'###..##....#....##...#.#.#...######.#.#.#.###.####.....#.##...###......###.......#.#.#...##.##...#.#####..#.#.#.###..####..#.#..#..#...###.####..#.###.#...#.#.#.#...#.....#####..#.##.#.#.#.#...####.#.#....##..######..###.####......#..#..#####.##.#.#.#.#.####...###.####..#.#.#..##...#..#..#..##..##..###..#..#####.##...#.#.....##.#..##.#...####.#...#..##.#.#....#..#....##.#.#.###.#..#.###.###.######.##.######...#..##..##.#.###..#.###..#..#.########.###.#.#.#.#..##.#.#.###.#.###.#.#.###...#..#.##....##.##.##..'"
      ]
     },
     "execution_count": 131,
     "metadata": {},
     "output_type": "execute_result"
    }
   ],
   "source": [
    "import numpy as np\n",
    "from time import time\n",
    "\n",
    "with open(\"input20.txt\") as f:\n",
    "    data =[x[:-1] for x in f.readlines()]\n",
    "    \n",
    "decoder = data[0]\n",
    "inp = data[2:]\n",
    "inp = np.array([np.array([y for y in x]) for x in inp])\n",
    "\n",
    "decoder"
   ]
  },
  {
   "cell_type": "markdown",
   "id": "8aaab736",
   "metadata": {},
   "source": [
    "# Part 1"
   ]
  },
  {
   "cell_type": "code",
   "execution_count": 132,
   "id": "5530bd93",
   "metadata": {},
   "outputs": [
    {
     "name": "stdout",
     "output_type": "stream",
     "text": [
      "5489\n"
     ]
    },
    {
     "data": {
      "text/plain": [
       "0.31832289695739746"
      ]
     },
     "execution_count": 132,
     "metadata": {},
     "output_type": "execute_result"
    }
   ],
   "source": [
    "def decode(grid, decoder):\n",
    "    num_grid = np.full((3,3), '0')\n",
    "    for i in range(len(grid)):\n",
    "        for j in range(len(grid[0])):\n",
    "            num_grid[i][j] = '0' if grid[i][j] == '.' else '1'\n",
    "    num = ''.join([x for y in num_grid for x in y])\n",
    "    num = int(num, 2)\n",
    "    return decoder[num]\n",
    "            \n",
    "\n",
    "def one_step(inp, decoder, filler):\n",
    "    \"\"\"Computes the next image. Filler is '.' or '#' \"\"\"\n",
    "    inp_img = np.pad(inp, ((3,),(3,)), 'constant', constant_values = filler)\n",
    "    new_img = np.full((len(inp_img), len(inp_img)), filler)\n",
    "    for i in range(1, len(inp_img)-1):\n",
    "        for j in range(1, len(inp_img[0])-1):\n",
    "            grid = inp_img[i-1:i+2, j-1:j+2]\n",
    "            new_img[i,j] = decode(grid, decoder) \n",
    "    new_filler = decoder[0] if filler == '.' else decoder[511]\n",
    "    return new_img[2:-2,2:-2], new_filler\n",
    "\n",
    "def iterate(inp, decoder, n):\n",
    "    filler = '.'\n",
    "    img = inp\n",
    "    for _ in range(n):\n",
    "        img, filler = one_step(img, decoder, filler)\n",
    "    return img, filler\n",
    "\n",
    "def count_pixels(img, kind):\n",
    "    count = 0\n",
    "    for i in range(len(img)):\n",
    "        for j in range(len(img[0])):\n",
    "            if img[i][j] == kind:\n",
    "                count += 1\n",
    "    return count\n",
    "\n",
    "def draw_image(img):\n",
    "    for i in range(len(img)):\n",
    "        print(''.join(img[i]))\n",
    "\n",
    "st = time()\n",
    "img, filler = iterate(inp, decoder, 2)\n",
    "print(count_pixels(img, '#'))\n",
    "end  = time()\n",
    "end-st"
   ]
  },
  {
   "cell_type": "markdown",
   "id": "b73cf9c0",
   "metadata": {},
   "source": [
    "# Part 2"
   ]
  },
  {
   "cell_type": "code",
   "execution_count": 133,
   "id": "bb8fdf02",
   "metadata": {},
   "outputs": [
    {
     "name": "stdout",
     "output_type": "stream",
     "text": [
      "19066\n"
     ]
    },
    {
     "data": {
      "text/plain": [
       "16.95083737373352"
      ]
     },
     "execution_count": 133,
     "metadata": {},
     "output_type": "execute_result"
    }
   ],
   "source": [
    "st = time()\n",
    "img, filler = iterate(inp, decoder, 50)\n",
    "print(count_pixels(img, '#'))\n",
    "end = time()\n",
    "end-st"
   ]
  }
 ],
 "metadata": {
  "kernelspec": {
   "display_name": "Python 3",
   "language": "python",
   "name": "python3"
  },
  "language_info": {
   "codemirror_mode": {
    "name": "ipython",
    "version": 3
   },
   "file_extension": ".py",
   "mimetype": "text/x-python",
   "name": "python",
   "nbconvert_exporter": "python",
   "pygments_lexer": "ipython3",
   "version": "3.8.8"
  }
 },
 "nbformat": 4,
 "nbformat_minor": 5
}
